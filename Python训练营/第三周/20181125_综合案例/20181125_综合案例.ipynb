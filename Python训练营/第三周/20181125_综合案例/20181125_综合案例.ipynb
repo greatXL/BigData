{
 "cells": [
  {
   "cell_type": "code",
   "execution_count": 1,
   "metadata": {},
   "outputs": [],
   "source": [
    "import numpy as np\n",
    "import pandas as pd\n",
    "from pandas import Series, DataFrame\n",
    "import matplotlib.pyplot as plt"
   ]
  },
  {
   "cell_type": "code",
   "execution_count": 3,
   "metadata": {},
   "outputs": [],
   "source": [
    "path = \"second_cars_info.csv\"\n",
    "data = pd.read_csv(path, encoding=\"gbk\")"
   ]
  },
  {
   "cell_type": "code",
   "execution_count": 9,
   "metadata": {},
   "outputs": [
    {
     "data": {
      "text/plain": [
       "(11281, 7)"
      ]
     },
     "execution_count": 9,
     "metadata": {},
     "output_type": "execute_result"
    }
   ],
   "source": [
    "data.shape"
   ]
  },
  {
   "cell_type": "code",
   "execution_count": 12,
   "metadata": {},
   "outputs": [
    {
     "data": {
      "text/plain": [
       "0.00824395000443223"
      ]
     },
     "execution_count": 12,
     "metadata": {},
     "output_type": "execute_result"
    }
   ],
   "source": [
    "#发现boarding_time字段中有“未上牌”的数据，需要处理\n",
    "#先查看“未上牌”在整个数据集中占比例多少\n",
    "N = np.sum(data.Boarding_time==\"未上牌\")\n",
    "N / data.shape[0]"
   ]
  },
  {
   "cell_type": "code",
   "execution_count": 13,
   "metadata": {},
   "outputs": [],
   "source": [
    "data = data[data.Boarding_time!=\"未上牌\"]"
   ]
  },
  {
   "cell_type": "code",
   "execution_count": 16,
   "metadata": {},
   "outputs": [],
   "source": [
    "#处理后索引会乱，需要重新整理索引\n",
    "data.index = np.arange(0,data.shape[0])"
   ]
  },
  {
   "cell_type": "code",
   "execution_count": 20,
   "metadata": {},
   "outputs": [
    {
     "name": "stderr",
     "output_type": "stream",
     "text": [
      "C:\\ProgramData\\Anaconda3\\lib\\site-packages\\ipykernel_launcher.py:2: SettingWithCopyWarning: \n",
      "A value is trying to be set on a copy of a slice from a DataFrame.\n",
      "Try using .loc[row_indexer,col_indexer] = value instead\n",
      "\n",
      "See the caveats in the documentation: http://pandas.pydata.org/pandas-docs/stable/indexing.html#indexing-view-versus-copy\n",
      "  \n"
     ]
    },
    {
     "data": {
      "text/html": [
       "<div>\n",
       "<style scoped>\n",
       "    .dataframe tbody tr th:only-of-type {\n",
       "        vertical-align: middle;\n",
       "    }\n",
       "\n",
       "    .dataframe tbody tr th {\n",
       "        vertical-align: top;\n",
       "    }\n",
       "\n",
       "    .dataframe thead th {\n",
       "        text-align: right;\n",
       "    }\n",
       "</style>\n",
       "<table border=\"1\" class=\"dataframe\">\n",
       "  <thead>\n",
       "    <tr style=\"text-align: right;\">\n",
       "      <th></th>\n",
       "      <th>Brand</th>\n",
       "      <th>Name</th>\n",
       "      <th>Boarding_time</th>\n",
       "      <th>Km</th>\n",
       "      <th>Discharge</th>\n",
       "      <th>Sec_price</th>\n",
       "      <th>New_price</th>\n",
       "      <th>year</th>\n",
       "    </tr>\n",
       "  </thead>\n",
       "  <tbody>\n",
       "    <tr>\n",
       "      <th>0</th>\n",
       "      <td>奥迪</td>\n",
       "      <td>奥迪A6L 2006款 2.4 CVT 舒适型</td>\n",
       "      <td>2006年8月</td>\n",
       "      <td>9.00万公里</td>\n",
       "      <td>国3</td>\n",
       "      <td>6.90</td>\n",
       "      <td>50.89万</td>\n",
       "      <td>2006</td>\n",
       "    </tr>\n",
       "    <tr>\n",
       "      <th>1</th>\n",
       "      <td>奥迪</td>\n",
       "      <td>奥迪A6L 2007款 2.4 CVT 舒适型</td>\n",
       "      <td>2007年1月</td>\n",
       "      <td>8.00万公里</td>\n",
       "      <td>国4</td>\n",
       "      <td>8.88</td>\n",
       "      <td>50.89万</td>\n",
       "      <td>2007</td>\n",
       "    </tr>\n",
       "    <tr>\n",
       "      <th>2</th>\n",
       "      <td>奥迪</td>\n",
       "      <td>奥迪A6L 2004款 2.4L 技术领先型</td>\n",
       "      <td>2005年5月</td>\n",
       "      <td>15.00万公里</td>\n",
       "      <td>国2</td>\n",
       "      <td>3.82</td>\n",
       "      <td>54.24万</td>\n",
       "      <td>2005</td>\n",
       "    </tr>\n",
       "    <tr>\n",
       "      <th>3</th>\n",
       "      <td>奥迪</td>\n",
       "      <td>奥迪A8L 2013款 45 TFSI quattro舒适型</td>\n",
       "      <td>2013年10月</td>\n",
       "      <td>4.80万公里</td>\n",
       "      <td>欧4</td>\n",
       "      <td>44.80</td>\n",
       "      <td>101.06万</td>\n",
       "      <td>2013</td>\n",
       "    </tr>\n",
       "    <tr>\n",
       "      <th>4</th>\n",
       "      <td>奥迪</td>\n",
       "      <td>奥迪A6L 2014款 30 FSI 豪华型</td>\n",
       "      <td>2014年9月</td>\n",
       "      <td>0.81万公里</td>\n",
       "      <td>国4,国5</td>\n",
       "      <td>33.19</td>\n",
       "      <td>54.99万</td>\n",
       "      <td>2014</td>\n",
       "    </tr>\n",
       "  </tbody>\n",
       "</table>\n",
       "</div>"
      ],
      "text/plain": [
       "  Brand                            Name Boarding_time        Km Discharge  \\\n",
       "0    奥迪         奥迪A6L 2006款 2.4 CVT 舒适型       2006年8月   9.00万公里        国3   \n",
       "1    奥迪         奥迪A6L 2007款 2.4 CVT 舒适型       2007年1月   8.00万公里        国4   \n",
       "2    奥迪          奥迪A6L 2004款 2.4L 技术领先型       2005年5月  15.00万公里        国2   \n",
       "3    奥迪  奥迪A8L 2013款 45 TFSI quattro舒适型      2013年10月   4.80万公里        欧4   \n",
       "4    奥迪          奥迪A6L 2014款 30 FSI 豪华型       2014年9月   0.81万公里     国4,国5   \n",
       "\n",
       "   Sec_price New_price  year  \n",
       "0       6.90    50.89万  2006  \n",
       "1       8.88    50.89万  2007  \n",
       "2       3.82    54.24万  2005  \n",
       "3      44.80   101.06万  2013  \n",
       "4      33.19    54.99万  2014  "
      ]
     },
     "execution_count": 20,
     "metadata": {},
     "output_type": "execute_result"
    }
   ],
   "source": [
    "data.head()\n",
    "#将Boarding_time中的年份单独提取出来\n",
    "data[\"year\"] = data.Boarding_time.str[:4].astype(\"int\")\n"
   ]
  },
  {
   "cell_type": "code",
   "execution_count": 21,
   "metadata": {},
   "outputs": [
    {
     "name": "stderr",
     "output_type": "stream",
     "text": [
      "C:\\ProgramData\\Anaconda3\\lib\\site-packages\\ipykernel_launcher.py:2: SettingWithCopyWarning: \n",
      "A value is trying to be set on a copy of a slice from a DataFrame.\n",
      "Try using .loc[row_indexer,col_indexer] = value instead\n",
      "\n",
      "See the caveats in the documentation: http://pandas.pydata.org/pandas-docs/stable/indexing.html#indexing-view-versus-copy\n",
      "  \n"
     ]
    }
   ],
   "source": [
    "#将Boarding_time中的月份单独提取出来\n",
    "data[\"month\"] = data.Boarding_time.str[5:-1].astype(\"int\")"
   ]
  },
  {
   "cell_type": "code",
   "execution_count": 22,
   "metadata": {},
   "outputs": [
    {
     "data": {
      "text/html": [
       "<div>\n",
       "<style scoped>\n",
       "    .dataframe tbody tr th:only-of-type {\n",
       "        vertical-align: middle;\n",
       "    }\n",
       "\n",
       "    .dataframe tbody tr th {\n",
       "        vertical-align: top;\n",
       "    }\n",
       "\n",
       "    .dataframe thead th {\n",
       "        text-align: right;\n",
       "    }\n",
       "</style>\n",
       "<table border=\"1\" class=\"dataframe\">\n",
       "  <thead>\n",
       "    <tr style=\"text-align: right;\">\n",
       "      <th></th>\n",
       "      <th>Brand</th>\n",
       "      <th>Name</th>\n",
       "      <th>Boarding_time</th>\n",
       "      <th>Km</th>\n",
       "      <th>Discharge</th>\n",
       "      <th>Sec_price</th>\n",
       "      <th>New_price</th>\n",
       "      <th>year</th>\n",
       "      <th>month</th>\n",
       "    </tr>\n",
       "  </thead>\n",
       "  <tbody>\n",
       "    <tr>\n",
       "      <th>0</th>\n",
       "      <td>奥迪</td>\n",
       "      <td>奥迪A6L 2006款 2.4 CVT 舒适型</td>\n",
       "      <td>2006年8月</td>\n",
       "      <td>9.00万公里</td>\n",
       "      <td>国3</td>\n",
       "      <td>6.90</td>\n",
       "      <td>50.89万</td>\n",
       "      <td>2006</td>\n",
       "      <td>8</td>\n",
       "    </tr>\n",
       "    <tr>\n",
       "      <th>1</th>\n",
       "      <td>奥迪</td>\n",
       "      <td>奥迪A6L 2007款 2.4 CVT 舒适型</td>\n",
       "      <td>2007年1月</td>\n",
       "      <td>8.00万公里</td>\n",
       "      <td>国4</td>\n",
       "      <td>8.88</td>\n",
       "      <td>50.89万</td>\n",
       "      <td>2007</td>\n",
       "      <td>1</td>\n",
       "    </tr>\n",
       "    <tr>\n",
       "      <th>2</th>\n",
       "      <td>奥迪</td>\n",
       "      <td>奥迪A6L 2004款 2.4L 技术领先型</td>\n",
       "      <td>2005年5月</td>\n",
       "      <td>15.00万公里</td>\n",
       "      <td>国2</td>\n",
       "      <td>3.82</td>\n",
       "      <td>54.24万</td>\n",
       "      <td>2005</td>\n",
       "      <td>5</td>\n",
       "    </tr>\n",
       "    <tr>\n",
       "      <th>3</th>\n",
       "      <td>奥迪</td>\n",
       "      <td>奥迪A8L 2013款 45 TFSI quattro舒适型</td>\n",
       "      <td>2013年10月</td>\n",
       "      <td>4.80万公里</td>\n",
       "      <td>欧4</td>\n",
       "      <td>44.80</td>\n",
       "      <td>101.06万</td>\n",
       "      <td>2013</td>\n",
       "      <td>10</td>\n",
       "    </tr>\n",
       "    <tr>\n",
       "      <th>4</th>\n",
       "      <td>奥迪</td>\n",
       "      <td>奥迪A6L 2014款 30 FSI 豪华型</td>\n",
       "      <td>2014年9月</td>\n",
       "      <td>0.81万公里</td>\n",
       "      <td>国4,国5</td>\n",
       "      <td>33.19</td>\n",
       "      <td>54.99万</td>\n",
       "      <td>2014</td>\n",
       "      <td>9</td>\n",
       "    </tr>\n",
       "  </tbody>\n",
       "</table>\n",
       "</div>"
      ],
      "text/plain": [
       "  Brand                            Name Boarding_time        Km Discharge  \\\n",
       "0    奥迪         奥迪A6L 2006款 2.4 CVT 舒适型       2006年8月   9.00万公里        国3   \n",
       "1    奥迪         奥迪A6L 2007款 2.4 CVT 舒适型       2007年1月   8.00万公里        国4   \n",
       "2    奥迪          奥迪A6L 2004款 2.4L 技术领先型       2005年5月  15.00万公里        国2   \n",
       "3    奥迪  奥迪A8L 2013款 45 TFSI quattro舒适型      2013年10月   4.80万公里        欧4   \n",
       "4    奥迪          奥迪A6L 2014款 30 FSI 豪华型       2014年9月   0.81万公里     国4,国5   \n",
       "\n",
       "   Sec_price New_price  year  month  \n",
       "0       6.90    50.89万  2006      8  \n",
       "1       8.88    50.89万  2007      1  \n",
       "2       3.82    54.24万  2005      5  \n",
       "3      44.80   101.06万  2013     10  \n",
       "4      33.19    54.99万  2014      9  "
      ]
     },
     "execution_count": 22,
     "metadata": {},
     "output_type": "execute_result"
    }
   ],
   "source": [
    "data.head()"
   ]
  },
  {
   "cell_type": "code",
   "execution_count": 23,
   "metadata": {},
   "outputs": [
    {
     "name": "stderr",
     "output_type": "stream",
     "text": [
      "C:\\ProgramData\\Anaconda3\\lib\\site-packages\\ipykernel_launcher.py:3: SettingWithCopyWarning: \n",
      "A value is trying to be set on a copy of a slice from a DataFrame.\n",
      "Try using .loc[row_indexer,col_indexer] = value instead\n",
      "\n",
      "See the caveats in the documentation: http://pandas.pydata.org/pandas-docs/stable/indexing.html#indexing-view-versus-copy\n",
      "  This is separate from the ipykernel package so we can avoid doing imports until\n"
     ]
    }
   ],
   "source": [
    "#新增一列，表示该车上牌多少个月了？\n",
    "#当前数据是2017年10月收集的\n",
    "data[\"diff_months\"] = (2017-data.year) * 12 + (10-data.month)"
   ]
  },
  {
   "cell_type": "code",
   "execution_count": 24,
   "metadata": {},
   "outputs": [
    {
     "data": {
      "text/html": [
       "<div>\n",
       "<style scoped>\n",
       "    .dataframe tbody tr th:only-of-type {\n",
       "        vertical-align: middle;\n",
       "    }\n",
       "\n",
       "    .dataframe tbody tr th {\n",
       "        vertical-align: top;\n",
       "    }\n",
       "\n",
       "    .dataframe thead th {\n",
       "        text-align: right;\n",
       "    }\n",
       "</style>\n",
       "<table border=\"1\" class=\"dataframe\">\n",
       "  <thead>\n",
       "    <tr style=\"text-align: right;\">\n",
       "      <th></th>\n",
       "      <th>Brand</th>\n",
       "      <th>Name</th>\n",
       "      <th>Boarding_time</th>\n",
       "      <th>Km</th>\n",
       "      <th>Discharge</th>\n",
       "      <th>Sec_price</th>\n",
       "      <th>New_price</th>\n",
       "      <th>year</th>\n",
       "      <th>month</th>\n",
       "      <th>diff_months</th>\n",
       "    </tr>\n",
       "  </thead>\n",
       "  <tbody>\n",
       "    <tr>\n",
       "      <th>0</th>\n",
       "      <td>奥迪</td>\n",
       "      <td>奥迪A6L 2006款 2.4 CVT 舒适型</td>\n",
       "      <td>2006年8月</td>\n",
       "      <td>9.00万公里</td>\n",
       "      <td>国3</td>\n",
       "      <td>6.90</td>\n",
       "      <td>50.89万</td>\n",
       "      <td>2006</td>\n",
       "      <td>8</td>\n",
       "      <td>134</td>\n",
       "    </tr>\n",
       "    <tr>\n",
       "      <th>1</th>\n",
       "      <td>奥迪</td>\n",
       "      <td>奥迪A6L 2007款 2.4 CVT 舒适型</td>\n",
       "      <td>2007年1月</td>\n",
       "      <td>8.00万公里</td>\n",
       "      <td>国4</td>\n",
       "      <td>8.88</td>\n",
       "      <td>50.89万</td>\n",
       "      <td>2007</td>\n",
       "      <td>1</td>\n",
       "      <td>129</td>\n",
       "    </tr>\n",
       "    <tr>\n",
       "      <th>2</th>\n",
       "      <td>奥迪</td>\n",
       "      <td>奥迪A6L 2004款 2.4L 技术领先型</td>\n",
       "      <td>2005年5月</td>\n",
       "      <td>15.00万公里</td>\n",
       "      <td>国2</td>\n",
       "      <td>3.82</td>\n",
       "      <td>54.24万</td>\n",
       "      <td>2005</td>\n",
       "      <td>5</td>\n",
       "      <td>149</td>\n",
       "    </tr>\n",
       "    <tr>\n",
       "      <th>3</th>\n",
       "      <td>奥迪</td>\n",
       "      <td>奥迪A8L 2013款 45 TFSI quattro舒适型</td>\n",
       "      <td>2013年10月</td>\n",
       "      <td>4.80万公里</td>\n",
       "      <td>欧4</td>\n",
       "      <td>44.80</td>\n",
       "      <td>101.06万</td>\n",
       "      <td>2013</td>\n",
       "      <td>10</td>\n",
       "      <td>48</td>\n",
       "    </tr>\n",
       "    <tr>\n",
       "      <th>4</th>\n",
       "      <td>奥迪</td>\n",
       "      <td>奥迪A6L 2014款 30 FSI 豪华型</td>\n",
       "      <td>2014年9月</td>\n",
       "      <td>0.81万公里</td>\n",
       "      <td>国4,国5</td>\n",
       "      <td>33.19</td>\n",
       "      <td>54.99万</td>\n",
       "      <td>2014</td>\n",
       "      <td>9</td>\n",
       "      <td>37</td>\n",
       "    </tr>\n",
       "  </tbody>\n",
       "</table>\n",
       "</div>"
      ],
      "text/plain": [
       "  Brand                            Name Boarding_time        Km Discharge  \\\n",
       "0    奥迪         奥迪A6L 2006款 2.4 CVT 舒适型       2006年8月   9.00万公里        国3   \n",
       "1    奥迪         奥迪A6L 2007款 2.4 CVT 舒适型       2007年1月   8.00万公里        国4   \n",
       "2    奥迪          奥迪A6L 2004款 2.4L 技术领先型       2005年5月  15.00万公里        国2   \n",
       "3    奥迪  奥迪A8L 2013款 45 TFSI quattro舒适型      2013年10月   4.80万公里        欧4   \n",
       "4    奥迪          奥迪A6L 2014款 30 FSI 豪华型       2014年9月   0.81万公里     国4,国5   \n",
       "\n",
       "   Sec_price New_price  year  month  diff_months  \n",
       "0       6.90    50.89万  2006      8          134  \n",
       "1       8.88    50.89万  2007      1          129  \n",
       "2       3.82    54.24万  2005      5          149  \n",
       "3      44.80   101.06万  2013     10           48  \n",
       "4      33.19    54.99万  2014      9           37  "
      ]
     },
     "execution_count": 24,
     "metadata": {},
     "output_type": "execute_result"
    }
   ],
   "source": [
    "data.head()"
   ]
  },
  {
   "cell_type": "code",
   "execution_count": 34,
   "metadata": {},
   "outputs": [],
   "source": [
    "#data[\"Km_new\"] = data.Km.str[:-3]\n",
    "#数据内还包含有“百公里”字样，需要去除\n",
    "index = data[~(data.Km_new.str.contains(\"百\"))].index\n",
    "data = data.loc[index,:]\n",
    "data[\"Km_new\"] = data.Km_new.astype(\"float\")"
   ]
  },
  {
   "cell_type": "code",
   "execution_count": 35,
   "metadata": {},
   "outputs": [
    {
     "data": {
      "text/html": [
       "<div>\n",
       "<style scoped>\n",
       "    .dataframe tbody tr th:only-of-type {\n",
       "        vertical-align: middle;\n",
       "    }\n",
       "\n",
       "    .dataframe tbody tr th {\n",
       "        vertical-align: top;\n",
       "    }\n",
       "\n",
       "    .dataframe thead th {\n",
       "        text-align: right;\n",
       "    }\n",
       "</style>\n",
       "<table border=\"1\" class=\"dataframe\">\n",
       "  <thead>\n",
       "    <tr style=\"text-align: right;\">\n",
       "      <th></th>\n",
       "      <th>Brand</th>\n",
       "      <th>Name</th>\n",
       "      <th>Boarding_time</th>\n",
       "      <th>Km</th>\n",
       "      <th>Discharge</th>\n",
       "      <th>Sec_price</th>\n",
       "      <th>New_price</th>\n",
       "      <th>year</th>\n",
       "      <th>month</th>\n",
       "      <th>diff_months</th>\n",
       "      <th>Km_new</th>\n",
       "    </tr>\n",
       "  </thead>\n",
       "  <tbody>\n",
       "    <tr>\n",
       "      <th>0</th>\n",
       "      <td>奥迪</td>\n",
       "      <td>奥迪A6L 2006款 2.4 CVT 舒适型</td>\n",
       "      <td>2006年8月</td>\n",
       "      <td>9.00万公里</td>\n",
       "      <td>国3</td>\n",
       "      <td>6.90</td>\n",
       "      <td>50.89万</td>\n",
       "      <td>2006</td>\n",
       "      <td>8</td>\n",
       "      <td>134</td>\n",
       "      <td>9.00</td>\n",
       "    </tr>\n",
       "    <tr>\n",
       "      <th>1</th>\n",
       "      <td>奥迪</td>\n",
       "      <td>奥迪A6L 2007款 2.4 CVT 舒适型</td>\n",
       "      <td>2007年1月</td>\n",
       "      <td>8.00万公里</td>\n",
       "      <td>国4</td>\n",
       "      <td>8.88</td>\n",
       "      <td>50.89万</td>\n",
       "      <td>2007</td>\n",
       "      <td>1</td>\n",
       "      <td>129</td>\n",
       "      <td>8.00</td>\n",
       "    </tr>\n",
       "    <tr>\n",
       "      <th>2</th>\n",
       "      <td>奥迪</td>\n",
       "      <td>奥迪A6L 2004款 2.4L 技术领先型</td>\n",
       "      <td>2005年5月</td>\n",
       "      <td>15.00万公里</td>\n",
       "      <td>国2</td>\n",
       "      <td>3.82</td>\n",
       "      <td>54.24万</td>\n",
       "      <td>2005</td>\n",
       "      <td>5</td>\n",
       "      <td>149</td>\n",
       "      <td>15.00</td>\n",
       "    </tr>\n",
       "    <tr>\n",
       "      <th>3</th>\n",
       "      <td>奥迪</td>\n",
       "      <td>奥迪A8L 2013款 45 TFSI quattro舒适型</td>\n",
       "      <td>2013年10月</td>\n",
       "      <td>4.80万公里</td>\n",
       "      <td>欧4</td>\n",
       "      <td>44.80</td>\n",
       "      <td>101.06万</td>\n",
       "      <td>2013</td>\n",
       "      <td>10</td>\n",
       "      <td>48</td>\n",
       "      <td>4.80</td>\n",
       "    </tr>\n",
       "    <tr>\n",
       "      <th>4</th>\n",
       "      <td>奥迪</td>\n",
       "      <td>奥迪A6L 2014款 30 FSI 豪华型</td>\n",
       "      <td>2014年9月</td>\n",
       "      <td>0.81万公里</td>\n",
       "      <td>国4,国5</td>\n",
       "      <td>33.19</td>\n",
       "      <td>54.99万</td>\n",
       "      <td>2014</td>\n",
       "      <td>9</td>\n",
       "      <td>37</td>\n",
       "      <td>0.81</td>\n",
       "    </tr>\n",
       "  </tbody>\n",
       "</table>\n",
       "</div>"
      ],
      "text/plain": [
       "  Brand                            Name Boarding_time        Km Discharge  \\\n",
       "0    奥迪         奥迪A6L 2006款 2.4 CVT 舒适型       2006年8月   9.00万公里        国3   \n",
       "1    奥迪         奥迪A6L 2007款 2.4 CVT 舒适型       2007年1月   8.00万公里        国4   \n",
       "2    奥迪          奥迪A6L 2004款 2.4L 技术领先型       2005年5月  15.00万公里        国2   \n",
       "3    奥迪  奥迪A8L 2013款 45 TFSI quattro舒适型      2013年10月   4.80万公里        欧4   \n",
       "4    奥迪          奥迪A6L 2014款 30 FSI 豪华型       2014年9月   0.81万公里     国4,国5   \n",
       "\n",
       "   Sec_price New_price  year  month  diff_months  Km_new  \n",
       "0       6.90    50.89万  2006      8          134    9.00  \n",
       "1       8.88    50.89万  2007      1          129    8.00  \n",
       "2       3.82    54.24万  2005      5          149   15.00  \n",
       "3      44.80   101.06万  2013     10           48    4.80  \n",
       "4      33.19    54.99万  2014      9           37    0.81  "
      ]
     },
     "execution_count": 35,
     "metadata": {},
     "output_type": "execute_result"
    }
   ],
   "source": [
    "data.head()"
   ]
  },
  {
   "cell_type": "code",
   "execution_count": 37,
   "metadata": {},
   "outputs": [],
   "source": [
    "data = data.loc[data.New_price!=\"暂无\",:]\n",
    "data[\"New_price_new\"] = data.New_price.str[:-1].astype(\"float\")"
   ]
  },
  {
   "cell_type": "code",
   "execution_count": 38,
   "metadata": {},
   "outputs": [
    {
     "data": {
      "text/html": [
       "<div>\n",
       "<style scoped>\n",
       "    .dataframe tbody tr th:only-of-type {\n",
       "        vertical-align: middle;\n",
       "    }\n",
       "\n",
       "    .dataframe tbody tr th {\n",
       "        vertical-align: top;\n",
       "    }\n",
       "\n",
       "    .dataframe thead th {\n",
       "        text-align: right;\n",
       "    }\n",
       "</style>\n",
       "<table border=\"1\" class=\"dataframe\">\n",
       "  <thead>\n",
       "    <tr style=\"text-align: right;\">\n",
       "      <th></th>\n",
       "      <th>Brand</th>\n",
       "      <th>Name</th>\n",
       "      <th>Boarding_time</th>\n",
       "      <th>Km</th>\n",
       "      <th>Discharge</th>\n",
       "      <th>Sec_price</th>\n",
       "      <th>New_price</th>\n",
       "      <th>year</th>\n",
       "      <th>month</th>\n",
       "      <th>diff_months</th>\n",
       "      <th>Km_new</th>\n",
       "      <th>New_price_new</th>\n",
       "    </tr>\n",
       "  </thead>\n",
       "  <tbody>\n",
       "    <tr>\n",
       "      <th>0</th>\n",
       "      <td>奥迪</td>\n",
       "      <td>奥迪A6L 2006款 2.4 CVT 舒适型</td>\n",
       "      <td>2006年8月</td>\n",
       "      <td>9.00万公里</td>\n",
       "      <td>国3</td>\n",
       "      <td>6.90</td>\n",
       "      <td>50.89万</td>\n",
       "      <td>2006</td>\n",
       "      <td>8</td>\n",
       "      <td>134</td>\n",
       "      <td>9.00</td>\n",
       "      <td>50.89</td>\n",
       "    </tr>\n",
       "    <tr>\n",
       "      <th>1</th>\n",
       "      <td>奥迪</td>\n",
       "      <td>奥迪A6L 2007款 2.4 CVT 舒适型</td>\n",
       "      <td>2007年1月</td>\n",
       "      <td>8.00万公里</td>\n",
       "      <td>国4</td>\n",
       "      <td>8.88</td>\n",
       "      <td>50.89万</td>\n",
       "      <td>2007</td>\n",
       "      <td>1</td>\n",
       "      <td>129</td>\n",
       "      <td>8.00</td>\n",
       "      <td>50.89</td>\n",
       "    </tr>\n",
       "    <tr>\n",
       "      <th>2</th>\n",
       "      <td>奥迪</td>\n",
       "      <td>奥迪A6L 2004款 2.4L 技术领先型</td>\n",
       "      <td>2005年5月</td>\n",
       "      <td>15.00万公里</td>\n",
       "      <td>国2</td>\n",
       "      <td>3.82</td>\n",
       "      <td>54.24万</td>\n",
       "      <td>2005</td>\n",
       "      <td>5</td>\n",
       "      <td>149</td>\n",
       "      <td>15.00</td>\n",
       "      <td>54.24</td>\n",
       "    </tr>\n",
       "    <tr>\n",
       "      <th>3</th>\n",
       "      <td>奥迪</td>\n",
       "      <td>奥迪A8L 2013款 45 TFSI quattro舒适型</td>\n",
       "      <td>2013年10月</td>\n",
       "      <td>4.80万公里</td>\n",
       "      <td>欧4</td>\n",
       "      <td>44.80</td>\n",
       "      <td>101.06万</td>\n",
       "      <td>2013</td>\n",
       "      <td>10</td>\n",
       "      <td>48</td>\n",
       "      <td>4.80</td>\n",
       "      <td>101.06</td>\n",
       "    </tr>\n",
       "    <tr>\n",
       "      <th>4</th>\n",
       "      <td>奥迪</td>\n",
       "      <td>奥迪A6L 2014款 30 FSI 豪华型</td>\n",
       "      <td>2014年9月</td>\n",
       "      <td>0.81万公里</td>\n",
       "      <td>国4,国5</td>\n",
       "      <td>33.19</td>\n",
       "      <td>54.99万</td>\n",
       "      <td>2014</td>\n",
       "      <td>9</td>\n",
       "      <td>37</td>\n",
       "      <td>0.81</td>\n",
       "      <td>54.99</td>\n",
       "    </tr>\n",
       "  </tbody>\n",
       "</table>\n",
       "</div>"
      ],
      "text/plain": [
       "  Brand                            Name Boarding_time        Km Discharge  \\\n",
       "0    奥迪         奥迪A6L 2006款 2.4 CVT 舒适型       2006年8月   9.00万公里        国3   \n",
       "1    奥迪         奥迪A6L 2007款 2.4 CVT 舒适型       2007年1月   8.00万公里        国4   \n",
       "2    奥迪          奥迪A6L 2004款 2.4L 技术领先型       2005年5月  15.00万公里        国2   \n",
       "3    奥迪  奥迪A8L 2013款 45 TFSI quattro舒适型      2013年10月   4.80万公里        欧4   \n",
       "4    奥迪          奥迪A6L 2014款 30 FSI 豪华型       2014年9月   0.81万公里     国4,国5   \n",
       "\n",
       "   Sec_price New_price  year  month  diff_months  Km_new  New_price_new  \n",
       "0       6.90    50.89万  2006      8          134    9.00          50.89  \n",
       "1       8.88    50.89万  2007      1          129    8.00          50.89  \n",
       "2       3.82    54.24万  2005      5          149   15.00          54.24  \n",
       "3      44.80   101.06万  2013     10           48    4.80         101.06  \n",
       "4      33.19    54.99万  2014      9           37    0.81          54.99  "
      ]
     },
     "execution_count": 38,
     "metadata": {},
     "output_type": "execute_result"
    }
   ],
   "source": [
    "data.head()"
   ]
  },
  {
   "cell_type": "code",
   "execution_count": 51,
   "metadata": {},
   "outputs": [
    {
     "data": {
      "text/plain": [
       "[0.17812585374738185,\n",
       " 0.16300883343957745,\n",
       " 0.15180766778981877,\n",
       " 0.11902376832711047,\n",
       " 0.09926236226208907,\n",
       " 0.08915399326108733,\n",
       " 0.08323467808032055,\n",
       " 0.07376377379109371,\n",
       " 0.04261906930152081]"
      ]
     },
     "execution_count": 51,
     "metadata": {},
     "output_type": "execute_result"
    }
   ],
   "source": [
    "#查看不同价格区间的二手车，在当前数据集中的占比情况\n",
    "sec_price_min = data.Sec_price.min()\n",
    "sec_price_max = data.Sec_price.max()\n",
    "#[sec_price_min,sec_price_max]\n",
    "#cut函数可以对数据进行切分，bins参数表示切分的规则\n",
    "price_cut = pd.cut(data.Sec_price, bins=[sec_price_min,3,5,8,10,15,20,30,100,sec_price_max])\n",
    "#不同价格区间的车的数量\n",
    "price_state = price_cut.value_counts()\n",
    "#price_state\n",
    "#[i for i in price_state/price_state.sum()]"
   ]
  },
  {
   "cell_type": "code",
   "execution_count": 56,
   "metadata": {},
   "outputs": [
    {
     "name": "stderr",
     "output_type": "stream",
     "text": [
      "C:\\ProgramData\\Anaconda3\\lib\\site-packages\\matplotlib\\font_manager.py:1331: UserWarning: findfont: Font family ['sans-serif'] not found. Falling back to DejaVu Sans\n",
      "  (prop.get_family(), self.defaultFamily[fontext]))\n"
     ]
    },
    {
     "data": {
      "image/png": "[encoded data removed]",
      "text/plain": [
       "<Figure size 576x432 with 1 Axes>"
      ]
     },
     "metadata": {
      "needs_background": "light"
     },
     "output_type": "display_data"
    }
   ],
   "source": [
    "#plt.rcParams[\"font.sans-serif\"] = [\"Microsoft YaHei\"]\n",
    "#plt.rcParams[\"axes.unicode_minus\"] = False\n",
    "X = np.arange(len(price_state))\n",
    "Y = price_state\n",
    "plt.figure(figsize=(8,6))\n",
    "plt.bar(X,Y,color=\"steelblue\",alpha=0.8)\n",
    "plt.xticks(np.arange(len(price_state)),price_state.index,rotation=45)\n",
    "plt.xlabel(\"价格区间\")\n",
    "plt.ylabel(\"数量\")\n",
    "plt.title(\"二手车价格分布图\")\n",
    "plt.ylim([0,2300])\n",
    "percents = [str(round(i*100,2))+\"%\" for i in price_state/price_state.sum()]\n",
    "\n",
    "for x,y,z in zip(X,Y,percents):\n",
    "    plt.text(x-0.4,y+50,z)"
   ]
  },
  {
   "cell_type": "code",
   "execution_count": 58,
   "metadata": {},
   "outputs": [],
   "source": [
    "#分析汽车使用时长、公里数及价格之间的关系\n",
    "#只分析奥迪、大众\n",
    "index = data[\"Brand\"].isin([\"奥迪\",\"大众\"])\n",
    "some_cars = data.loc[index,:]\n",
    "#some_cars.head()"
   ]
  },
  {
   "cell_type": "code",
   "execution_count": 62,
   "metadata": {},
   "outputs": [
    {
     "name": "stderr",
     "output_type": "stream",
     "text": [
      "C:\\ProgramData\\Anaconda3\\lib\\site-packages\\matplotlib\\font_manager.py:1331: UserWarning: findfont: Font family ['sans-serif'] not found. Falling back to DejaVu Sans\n",
      "  (prop.get_family(), self.defaultFamily[fontext]))\n"
     ]
    },
    {
     "data": {
      "image/png": "[encoded data removed]",
      "text/plain": [
       "<Figure size 864x720 with 1 Axes>"
      ]
     },
     "metadata": {
      "needs_background": "light"
     },
     "output_type": "display_data"
    }
   ],
   "source": [
    "plt.figure(figsize=(12,10))\n",
    "brands = [\"奥迪\",\"大众\"]\n",
    "colors = [\"steelblue\",\"#ff9999\"]\n",
    "for i in range(len(brands)):\n",
    "    plt.scatter(some_cars[some_cars[\"Brand\"]==brands[i]][\"Km_new\"],\n",
    "    some_cars[some_cars[\"Brand\"]==brands[i]][\"diff_months\"],\n",
    "    s=some_cars[some_cars[\"Brand\"]==brands[i]][\"Sec_price\"]*2,\n",
    "    c=colors[i],\n",
    "    )"
   ]
  },
  {
   "cell_type": "code",
   "execution_count": null,
   "metadata": {},
   "outputs": [],
   "source": []
  }
 ],
 "metadata": {
  "kernelspec": {
   "display_name": "Python 3",
   "language": "python",
   "name": "python3"
  },
  "language_info": {
   "codemirror_mode": {
    "name": "ipython",
    "version": 3
   },
   "file_extension": ".py",
   "mimetype": "text/x-python",
   "name": "python",
   "nbconvert_exporter": "python",
   "pygments_lexer": "ipython3",
   "version": "3.7.0"
  }
 },
 "nbformat": 4,
 "nbformat_minor": 2
}
